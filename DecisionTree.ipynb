{
 "cells": [
  {
   "cell_type": "code",
   "execution_count": 27,
   "id": "6447af80",
   "metadata": {},
   "outputs": [],
   "source": [
    "#Import library scikit learn untuk decision tree, dataset & matplotlib\n",
    "from sklearn.tree import DecisionTreeClassifier\n",
    "import pandas as pd\n",
    "import matplotlib.pyplot as plt\n",
    "from sklearn.model_selection import train_test_split # Import train_test_split function\n",
    "from sklearn import metrics #Import scikit-learn metrics module for accuracy calculation"
   ]
  },
  {
   "cell_type": "code",
   "execution_count": 28,
   "id": "58e16c92",
   "metadata": {},
   "outputs": [],
   "source": [
    "col_names = ['OUTLOOK', 'TEMPERATURE', 'HUMIDITY', 'WINDY', 'PLAY']\n",
    "datasets = pd.read_csv(\"Kuis.csv\")"
   ]
  },
  {
   "cell_type": "code",
   "execution_count": 29,
   "id": "2f075003",
   "metadata": {},
   "outputs": [
    {
     "data": {
      "text/html": [
       "<div>\n",
       "<style scoped>\n",
       "    .dataframe tbody tr th:only-of-type {\n",
       "        vertical-align: middle;\n",
       "    }\n",
       "\n",
       "    .dataframe tbody tr th {\n",
       "        vertical-align: top;\n",
       "    }\n",
       "\n",
       "    .dataframe thead th {\n",
       "        text-align: right;\n",
       "    }\n",
       "</style>\n",
       "<table border=\"1\" class=\"dataframe\">\n",
       "  <thead>\n",
       "    <tr style=\"text-align: right;\">\n",
       "      <th></th>\n",
       "      <th>OUTLOOK</th>\n",
       "      <th>TEMPERATURE</th>\n",
       "      <th>HUMIDITY</th>\n",
       "      <th>WINDY</th>\n",
       "      <th>PLAY</th>\n",
       "    </tr>\n",
       "  </thead>\n",
       "  <tbody>\n",
       "    <tr>\n",
       "      <th>0</th>\n",
       "      <td>Sunny</td>\n",
       "      <td>Hot</td>\n",
       "      <td>High</td>\n",
       "      <td>No</td>\n",
       "      <td>Don’t Play</td>\n",
       "    </tr>\n",
       "    <tr>\n",
       "      <th>1</th>\n",
       "      <td>Sunny</td>\n",
       "      <td>Hot</td>\n",
       "      <td>High</td>\n",
       "      <td>Yes</td>\n",
       "      <td>Don’t Play</td>\n",
       "    </tr>\n",
       "    <tr>\n",
       "      <th>2</th>\n",
       "      <td>Cloudy</td>\n",
       "      <td>Hot</td>\n",
       "      <td>High</td>\n",
       "      <td>No</td>\n",
       "      <td>Play</td>\n",
       "    </tr>\n",
       "    <tr>\n",
       "      <th>3</th>\n",
       "      <td>Rainy</td>\n",
       "      <td>Mild</td>\n",
       "      <td>High</td>\n",
       "      <td>No</td>\n",
       "      <td>Play</td>\n",
       "    </tr>\n",
       "    <tr>\n",
       "      <th>4</th>\n",
       "      <td>Rainy</td>\n",
       "      <td>Cool</td>\n",
       "      <td>Normal</td>\n",
       "      <td>No</td>\n",
       "      <td>Play</td>\n",
       "    </tr>\n",
       "  </tbody>\n",
       "</table>\n",
       "</div>"
      ],
      "text/plain": [
       "  OUTLOOK TEMPERATURE HUMIDITY WINDY        PLAY\n",
       "0   Sunny         Hot     High    No  Don’t Play\n",
       "1   Sunny         Hot     High   Yes  Don’t Play\n",
       "2  Cloudy         Hot     High    No        Play\n",
       "3   Rainy        Mild     High    No        Play\n",
       "4   Rainy        Cool   Normal    No        Play"
      ]
     },
     "execution_count": 29,
     "metadata": {},
     "output_type": "execute_result"
    }
   ],
   "source": [
    "datasets.head()"
   ]
  },
  {
   "cell_type": "code",
   "execution_count": 30,
   "id": "d1510f96",
   "metadata": {},
   "outputs": [
    {
     "name": "stdout",
     "output_type": "stream",
     "text": [
      "<class 'pandas.core.frame.DataFrame'>\n",
      "RangeIndex: 14 entries, 0 to 13\n",
      "Data columns (total 5 columns):\n",
      " #   Column       Non-Null Count  Dtype \n",
      "---  ------       --------------  ----- \n",
      " 0   OUTLOOK      14 non-null     object\n",
      " 1   TEMPERATURE  14 non-null     object\n",
      " 2   HUMIDITY     14 non-null     object\n",
      " 3   WINDY        14 non-null     object\n",
      " 4   PLAY         14 non-null     object\n",
      "dtypes: object(5)\n",
      "memory usage: 688.0+ bytes\n"
     ]
    }
   ],
   "source": [
    "datasets.info()"
   ]
  },
  {
   "cell_type": "code",
   "execution_count": 31,
   "id": "eace2c63",
   "metadata": {},
   "outputs": [],
   "source": [
    "# Merubah kelas/kolom dari String ke Unique-Integer\n",
    "datasets = datasets.apply(lambda x: pd.factorize(x)[0])"
   ]
  },
  {
   "cell_type": "code",
   "execution_count": 32,
   "id": "5f216310",
   "metadata": {},
   "outputs": [
    {
     "data": {
      "text/html": [
       "<div>\n",
       "<style scoped>\n",
       "    .dataframe tbody tr th:only-of-type {\n",
       "        vertical-align: middle;\n",
       "    }\n",
       "\n",
       "    .dataframe tbody tr th {\n",
       "        vertical-align: top;\n",
       "    }\n",
       "\n",
       "    .dataframe thead th {\n",
       "        text-align: right;\n",
       "    }\n",
       "</style>\n",
       "<table border=\"1\" class=\"dataframe\">\n",
       "  <thead>\n",
       "    <tr style=\"text-align: right;\">\n",
       "      <th></th>\n",
       "      <th>OUTLOOK</th>\n",
       "      <th>TEMPERATURE</th>\n",
       "      <th>HUMIDITY</th>\n",
       "      <th>WINDY</th>\n",
       "      <th>PLAY</th>\n",
       "    </tr>\n",
       "  </thead>\n",
       "  <tbody>\n",
       "    <tr>\n",
       "      <th>0</th>\n",
       "      <td>0</td>\n",
       "      <td>0</td>\n",
       "      <td>0</td>\n",
       "      <td>0</td>\n",
       "      <td>0</td>\n",
       "    </tr>\n",
       "    <tr>\n",
       "      <th>1</th>\n",
       "      <td>0</td>\n",
       "      <td>0</td>\n",
       "      <td>0</td>\n",
       "      <td>1</td>\n",
       "      <td>0</td>\n",
       "    </tr>\n",
       "    <tr>\n",
       "      <th>2</th>\n",
       "      <td>1</td>\n",
       "      <td>0</td>\n",
       "      <td>0</td>\n",
       "      <td>0</td>\n",
       "      <td>1</td>\n",
       "    </tr>\n",
       "    <tr>\n",
       "      <th>3</th>\n",
       "      <td>2</td>\n",
       "      <td>1</td>\n",
       "      <td>0</td>\n",
       "      <td>0</td>\n",
       "      <td>1</td>\n",
       "    </tr>\n",
       "    <tr>\n",
       "      <th>4</th>\n",
       "      <td>2</td>\n",
       "      <td>2</td>\n",
       "      <td>1</td>\n",
       "      <td>0</td>\n",
       "      <td>1</td>\n",
       "    </tr>\n",
       "    <tr>\n",
       "      <th>5</th>\n",
       "      <td>2</td>\n",
       "      <td>2</td>\n",
       "      <td>1</td>\n",
       "      <td>1</td>\n",
       "      <td>1</td>\n",
       "    </tr>\n",
       "    <tr>\n",
       "      <th>6</th>\n",
       "      <td>1</td>\n",
       "      <td>2</td>\n",
       "      <td>1</td>\n",
       "      <td>1</td>\n",
       "      <td>1</td>\n",
       "    </tr>\n",
       "    <tr>\n",
       "      <th>7</th>\n",
       "      <td>0</td>\n",
       "      <td>1</td>\n",
       "      <td>0</td>\n",
       "      <td>0</td>\n",
       "      <td>0</td>\n",
       "    </tr>\n",
       "    <tr>\n",
       "      <th>8</th>\n",
       "      <td>0</td>\n",
       "      <td>2</td>\n",
       "      <td>1</td>\n",
       "      <td>0</td>\n",
       "      <td>1</td>\n",
       "    </tr>\n",
       "    <tr>\n",
       "      <th>9</th>\n",
       "      <td>2</td>\n",
       "      <td>1</td>\n",
       "      <td>1</td>\n",
       "      <td>0</td>\n",
       "      <td>1</td>\n",
       "    </tr>\n",
       "    <tr>\n",
       "      <th>10</th>\n",
       "      <td>0</td>\n",
       "      <td>1</td>\n",
       "      <td>1</td>\n",
       "      <td>1</td>\n",
       "      <td>1</td>\n",
       "    </tr>\n",
       "    <tr>\n",
       "      <th>11</th>\n",
       "      <td>1</td>\n",
       "      <td>1</td>\n",
       "      <td>0</td>\n",
       "      <td>1</td>\n",
       "      <td>1</td>\n",
       "    </tr>\n",
       "    <tr>\n",
       "      <th>12</th>\n",
       "      <td>1</td>\n",
       "      <td>0</td>\n",
       "      <td>1</td>\n",
       "      <td>0</td>\n",
       "      <td>1</td>\n",
       "    </tr>\n",
       "    <tr>\n",
       "      <th>13</th>\n",
       "      <td>2</td>\n",
       "      <td>1</td>\n",
       "      <td>0</td>\n",
       "      <td>1</td>\n",
       "      <td>0</td>\n",
       "    </tr>\n",
       "  </tbody>\n",
       "</table>\n",
       "</div>"
      ],
      "text/plain": [
       "    OUTLOOK  TEMPERATURE  HUMIDITY  WINDY  PLAY\n",
       "0         0            0         0      0     0\n",
       "1         0            0         0      1     0\n",
       "2         1            0         0      0     1\n",
       "3         2            1         0      0     1\n",
       "4         2            2         1      0     1\n",
       "5         2            2         1      1     1\n",
       "6         1            2         1      1     1\n",
       "7         0            1         0      0     0\n",
       "8         0            2         1      0     1\n",
       "9         2            1         1      0     1\n",
       "10        0            1         1      1     1\n",
       "11        1            1         0      1     1\n",
       "12        1            0         1      0     1\n",
       "13        2            1         0      1     0"
      ]
     },
     "execution_count": 32,
     "metadata": {},
     "output_type": "execute_result"
    }
   ],
   "source": [
    "datasets"
   ]
  },
  {
   "cell_type": "code",
   "execution_count": 39,
   "id": "32f715ef",
   "metadata": {},
   "outputs": [],
   "source": [
    "#membagi data menjadi features dan target\n",
    "feature_cols = ['OUTLOOK','TEMPERATURE','HUMIDITY','WINDY']\n",
    "X = datasets[feature_cols] #features\n",
    "y = datasets.PLAY #Target Variable"
   ]
  },
  {
   "cell_type": "code",
   "execution_count": 40,
   "id": "d4eea3e0",
   "metadata": {},
   "outputs": [],
   "source": [
    "# # Membuat object model decision tree\n",
    "decisiontree = DecisionTreeClassifier(random_state=0, max_depth=None,\n",
    "                                      min_samples_split=2, min_samples_leaf=1,\n",
    "                                      min_weight_fraction_leaf=0,\n",
    "                                      max_leaf_nodes=None,\n",
    "                                      min_impurity_decrease=0)"
   ]
  },
  {
   "cell_type": "code",
   "execution_count": 41,
   "id": "0acea9bc",
   "metadata": {},
   "outputs": [],
   "source": [
    "model = decisiontree.fit(X,y)"
   ]
  },
  {
   "cell_type": "code",
   "execution_count": 42,
   "id": "b40d82cd",
   "metadata": {},
   "outputs": [
    {
     "data": {
      "text/plain": [
       "array([[0., 1.]])"
      ]
     },
     "execution_count": 42,
     "metadata": {},
     "output_type": "execute_result"
    }
   ],
   "source": [
    "# #Mengambil sampel observasi dan membuat prediksi\n",
    "# #fungsi predict() => memeriksa kelas yg dimilikinya\n",
    "# #fungsi predict_proba() => memeriksa probabilitas kelas dari prediksi tersebut\n",
    "observation = [[4, 3, 2, 1]]\n",
    "model.predict(observation)\n",
    "model.predict_proba(observation)"
   ]
  },
  {
   "cell_type": "code",
   "execution_count": 43,
   "id": "f6dcf105",
   "metadata": {},
   "outputs": [
    {
     "data": {
      "text/plain": [
       "True"
      ]
     },
     "execution_count": 43,
     "metadata": {},
     "output_type": "execute_result"
    }
   ],
   "source": [
    "#membuat grafik visualisasi decision tree\n",
    "import pydotplus\n",
    "from sklearn import tree\n",
    "dot_data = tree.export_graphviz(decisiontree, out_file=None,\n",
    "                                feature_names = feature_cols,\n",
    "                                class_names=['0','1'])\n",
    "from IPython.display import Image\n",
    "graph = pydotplus.graph_from_dot_data(dot_data)\n",
    "Image(graph.create_png())\n",
    "graph.write_png('iris.png')"
   ]
  },
  {
   "cell_type": "code",
   "execution_count": 34,
   "id": "61aef5f1",
   "metadata": {},
   "outputs": [],
   "source": [
    "# # Split dataset into training set and test set\n",
    "# X_train, X_test, y_train, y_test = train_test_split(X, y, test_size=0.3, random_state=1) # 70% training and 30% test"
   ]
  },
  {
   "cell_type": "code",
   "execution_count": 35,
   "id": "0822320f",
   "metadata": {},
   "outputs": [],
   "source": [
    "# # Create Decision Tree classifer object\n",
    "# clf = DecisionTreeClassifier()\n",
    "\n",
    "# # Train Decision Tree Classifer\n",
    "# clf = clf.fit(X_train,y_train)\n",
    "\n",
    "# #Predict the response for test dataset\n",
    "# y_pred = clf.predict(X_test)"
   ]
  },
  {
   "cell_type": "code",
   "execution_count": 36,
   "id": "08a254ef",
   "metadata": {},
   "outputs": [
    {
     "name": "stdout",
     "output_type": "stream",
     "text": [
      "Accuracy: 0.8\n"
     ]
    }
   ],
   "source": [
    "# Model Accuracy, how often is the classifier correct?\n",
    "# print(\"Accuracy:\",metrics.accuracy_score(y_test, y_pred))"
   ]
  },
  {
   "cell_type": "code",
   "execution_count": 38,
   "id": "e888a32b",
   "metadata": {},
   "outputs": [
    {
     "data": {
      "image/png": "[encoded data removed]",
      "text/plain": [
       "<IPython.core.display.Image object>"
      ]
     },
     "execution_count": 38,
     "metadata": {},
     "output_type": "execute_result"
    }
   ],
   "source": [
    "# from sklearn.tree import export_graphviz\n",
    "# from six import StringIO\n",
    "# from IPython.display import Image  \n",
    "# import pydotplus\n",
    "\n",
    "# dot_data = StringIO()\n",
    "# export_graphviz(clf, out_file=dot_data,  \n",
    "#                 filled=True, rounded=True,\n",
    "#                 special_characters=True,feature_names = feature_cols,class_names=['0','1'])\n",
    "# graph = pydotplus.graph_from_dot_data(dot_data.getvalue())  \n",
    "# graph.write_png('kuiz.png')\n",
    "# Image(graph.create_png())"
   ]
  },
  {
   "cell_type": "code",
   "execution_count": null,
   "id": "37d5b354",
   "metadata": {},
   "outputs": [],
   "source": []
  }
 ],
 "metadata": {
  "kernelspec": {
   "display_name": "Python 3 (ipykernel)",
   "language": "python",
   "name": "python3"
  },
  "language_info": {
   "codemirror_mode": {
    "name": "ipython",
    "version": 3
   },
   "file_extension": ".py",
   "mimetype": "text/x-python",
   "name": "python",
   "nbconvert_exporter": "python",
   "pygments_lexer": "ipython3",
   "version": "3.9.7"
  }
 },
 "nbformat": 4,
 "nbformat_minor": 5
}
